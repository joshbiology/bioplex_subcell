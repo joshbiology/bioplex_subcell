{
  "nbformat": 4,
  "nbformat_minor": 0,
  "metadata": {
    "colab": {
      "name": "deepwalk.ipynb",
      "provenance": [],
      "authorship_tag": "ABX9TyObhIxUAyH85DzqNOOoQZr9",
      "include_colab_link": true
    },
    "kernelspec": {
      "name": "python3",
      "display_name": "Python 3"
    },
    "language_info": {
      "name": "python"
    }
  },
  "cells": [
    {
      "cell_type": "markdown",
      "metadata": {
        "id": "view-in-github",
        "colab_type": "text"
      },
      "source": [
        "<a href=\"https://colab.research.google.com/github/joshbiology/bioplex_subcell/blob/master/deepwalk.ipynb\" target=\"_parent\"><img src=\"https://colab.research.google.com/assets/colab-badge.svg\" alt=\"Open In Colab\"/></a>"
      ]
    },
    {
      "cell_type": "markdown",
      "source": [
        "# Install deepwalk"
      ],
      "metadata": {
        "id": "8B5itnDrSSR_"
      }
    },
    {
      "cell_type": "code",
      "execution_count": 2,
      "metadata": {
        "colab": {
          "base_uri": "https://localhost:8080/"
        },
        "id": "LOLBnGH29s37",
        "outputId": "f2a3a818-feb6-452c-f2a1-3200cf6ac501"
      },
      "outputs": [
        {
          "output_type": "stream",
          "name": "stdout",
          "text": [
            "Cloning into 'deepwalk'...\n",
            "remote: Enumerating objects: 191, done.\u001b[K\n",
            "remote: Total 191 (delta 0), reused 0 (delta 0), pack-reused 191\u001b[K\n",
            "Receiving objects: 100% (191/191), 21.27 MiB | 24.55 MiB/s, done.\n",
            "Resolving deltas: 100% (86/86), done.\n"
          ]
        }
      ],
      "source": [
        "!git clone https://github.com/phanein/deepwalk.git\n",
        "!cd deepwalk/\n",
        "!pip install -r requirements.txt\n",
        "!python setup.py install"
      ]
    },
    {
      "cell_type": "code",
      "source": [
        "#Built-in example\n",
        "!deepwalk --input example_graphs/karate.adjlist --output karate.embeddings"
      ],
      "metadata": {
        "colab": {
          "base_uri": "https://localhost:8080/"
        },
        "id": "t6iB5hpv-y5H",
        "outputId": "bef8a2b5-5c3a-4f89-8922-a5b0b9654c90"
      },
      "execution_count": 6,
      "outputs": [
        {
          "output_type": "stream",
          "name": "stdout",
          "text": [
            "Number of nodes: 34\n",
            "Number of walks: 340\n",
            "Data size (walks*length): 13600\n",
            "Walking...\n",
            "Training...\n"
          ]
        }
      ]
    },
    {
      "cell_type": "markdown",
      "source": [
        "# Upload Bioplex datasets and run"
      ],
      "metadata": {
        "id": "9UjKUUGCSdlt"
      }
    },
    {
      "cell_type": "code",
      "source": [
        "!deepwalk --format edgelist --representation-size 128 --walk-length 40 --number-walks 16 --workers 8 --input Combo.full.edgelist --output Combo.full.deepwalk.txt"
      ],
      "metadata": {
        "colab": {
          "base_uri": "https://localhost:8080/"
        },
        "id": "XqC2Dq1lSc90",
        "outputId": "de89f0a6-17d4-4aa2-c158-56d44c8e38cf"
      },
      "execution_count": null,
      "outputs": [
        {
          "output_type": "stream",
          "name": "stdout",
          "text": [
            "Number of nodes: 10083\n",
            "Number of walks: 161328\n",
            "Data size (walks*length): 6453120\n",
            "Walking...\n",
            "Training...\n"
          ]
        }
      ]
    }
  ]
}